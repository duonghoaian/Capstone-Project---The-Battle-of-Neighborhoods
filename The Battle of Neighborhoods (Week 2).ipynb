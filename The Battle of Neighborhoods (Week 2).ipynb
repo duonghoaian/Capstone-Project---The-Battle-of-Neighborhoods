{
    "cells": [
        {
            "cell_type": "markdown",
            "metadata": {
                "collapsed": true
            },
            "source": "# The Battle of Neighborhoods (Week 2) Full Report"
        },
        {
            "cell_type": "markdown",
            "metadata": {},
            "source": "### Uploading Required Libraries"
        },
        {
            "cell_type": "code",
            "execution_count": null,
            "metadata": {},
            "outputs": [],
            "source": "import numpy as np # library to handle data in a vectorized manner\nimport time\nimport pandas as pd # library for data analsysis\npd.set_option('display.max_columns', None)\npd.set_option('display.max_rows', None)\n\nimport json # library to handle JSON files\nimport requests # library to handle requests\nfrom pandas.io.json import json_normalize # tranform JSON file into a pandas dataframe\n\n\n!conda install -c conda-forge geopy --yes # uncomment this line if you haven't completed the Foursquare API lab\nfrom geopy.geocoders import Nominatim # convert an address into latitude and longitude values\n\n!conda install -c conda-forge folium=0.5.0 --yes # uncomment this line if you haven't completed the Foursquare API lab\nimport folium # map rendering library\nimport folium # map rendering library\nfrom folium import plugins\n\n# Matplotlib and associated plotting modules\nimport matplotlib.cm as cm\nimport matplotlib.colors as colors\n\nimport seaborn as sns\n\n# import k-means from clustering stage\nfrom sklearn.cluster import KMeans\n\n\n\nprint('Libraries imported.')"
        },
        {
            "cell_type": "code",
            "execution_count": null,
            "metadata": {},
            "outputs": [],
            "source": ""
        },
        {
            "cell_type": "markdown",
            "metadata": {},
            "source": "### Table of Content"
        },
        {
            "cell_type": "markdown",
            "metadata": {},
            "source": "**1.Introduction Section:**\n\n- 1.1 Scenario and Backgroud\n\n- 1.2 Problem to be resolved\n\n- 1.3 Audience for this project and Scope of work\n\n**2.Data Section:**\n\n- 2.1 Data of current place of residence\n\n- 2.2 Data required to resolve the problem\n\n- 2.3 Data sources and data manipulation techniques\n\n- 2.4 How the data will be used to resolve the problem\n\n- 2.5 Mapping of Data\n\n**3.Methodology section:**\n\n- 3.1 Process steps and strategy to resolve the problem\n- 3.2 Data Science Methods, machine learning, mapping tools and exploratory data analysis\n\n**4.Results section:**\n\n- 4.1.Discussion of the results and how they help to take a decision.\n\n**5.Discussion section:**\n\n- 5.1.Elaboration and discussion on any observations and/or recommendations for improvement\n\n**6.Conclusion section:**\n\n- 6.1.Desicison taken and Report Conclusion\n\n"
        },
        {
            "cell_type": "markdown",
            "metadata": {},
            "source": "## 1.Introduction Section:"
        },
        {
            "cell_type": "markdown",
            "metadata": {},
            "source": "### 1.1 Scenario and Background"
        },
        {
            "cell_type": "markdown",
            "metadata": {},
            "source": "**1.1 Scenario and Background**\n\nI am a business analyst residing in Southbank Melbourne. I currently live within walking distance to Melbourne CBD and Flinders station and I enjoy many amenities and venues in the area, such as various international cuisine restaurants, cafes, shopping malls and entertainment. I currently work in a bank within walking distance to my home. However, I have been offered an opportunity to work for a leading consulting firm in Manhattan, NY. They will leverage my BA skills and newly acquired data science to help their business analytics team. I am unsure about taking the role and would like to use this opportunity to dedicate my final coursera project into investigating advantages and disadvatanges of taking this offer.The key question is : How much do I need to spend in comparison to Melbourne to find an apartment with my girl friend which is as convenient and affordable as mine in Melbourne, considering the salary difference. I can use available real estate websites and Google but the idea is to use and apply myself the learned tools during the course. In order to make a comparison and evaluation of the rental options in Manhattan NY, I must set some basis, therefore the apartment in Manhattan must meet the following demands:\n\n- Apartment must be 2 or 3 bedrooms\n\n- Desired location is near a metro station in the Manhattan area and within (1.5 km) radius or less than 30 minutes walking distance\n\n- Price of rent not exceed $7,000 per month\n\n- Top amenities in the selected neighborhood shall be similar to current residence\n\n- Desirable to have venues such as coffee shops, Asian and Japanese/Korean Restaurants, gym and Grocery stores nearby\n\n- As a reference, I have included a map of venues near current residence in Melbourne"
        },
        {
            "cell_type": "markdown",
            "metadata": {},
            "source": "### 1.2 Problem to be resolved"
        },
        {
            "cell_type": "markdown",
            "metadata": {},
            "source": "The challenge is to find a suitable apartment for rent in Manhattan NY that complies with the demands on location, price and venues. The data required to resolve this challenge is described in section 2 below.The criteria are as described in section 1.1 above."
        },
        {
            "cell_type": "markdown",
            "metadata": {},
            "source": "### 1.3 Interested Audience and Scope of Work"
        },
        {
            "cell_type": "markdown",
            "metadata": {},
            "source": "Believe this is a relevant challenge with valid questions for anyone moving to other large city in the US, EU or Asia. The same methodology can be applied in accordance to demands as applicable. This case is also applicable for anyone interested in exploring starting or locating a new business in any city. Lastly, it can also serve as a good practical exercise to develop Data Science skills."
        },
        {
            "cell_type": "markdown",
            "metadata": {},
            "source": "## 2. Data Section"
        },
        {
            "cell_type": "markdown",
            "metadata": {},
            "source": "### 2.1 Data of Current Place of Residence"
        },
        {
            "cell_type": "markdown",
            "metadata": {},
            "source": "I Currently reside in 'Riverside Quay' in Southbank Suburb of Melbourne. I use Foursquare to identify the venues around the area of residence which are then shown in the (Southbank, Melbourne) map shown in methodology and execution in section 3.0 . It serves as a reference for comparison with the desired future location in Manhattan NY."
        },
        {
            "cell_type": "markdown",
            "metadata": {},
            "source": "### 2.2 Data required to resolve the problem"
        },
        {
            "cell_type": "markdown",
            "metadata": {},
            "source": "In order to make a good choice of a similar apartment in Manhattan NY, the following data is required: List/Information on neighborhoods form Manhattan with their Geodata ( latitude and longitude). List/Information about the subway metro stations in Manhattan with geodata. Listed apartments for rent in Manhattan area with descriptions ( how many beds, price, location, address) Venues and amenities in the Manhattan neighborhoods (e.g. top 10)."
        },
        {
            "cell_type": "markdown",
            "metadata": {},
            "source": "### 2.3 Data sources and data manipulation techniques"
        },
        {
            "cell_type": "markdown",
            "metadata": {},
            "source": "The list of Manhattan neighborhoods was worked out during Lab exercise during the course assignments. A csv file was created which will be used in order to create a dataframe and for mapping. The csv file 'mh_neigh_data.csv' has the following below data structure. The file will be directly used in the Jupyter Notebook for convenience and space savings. The clustering of neighborhoods and mapping will be shown. An algorythm was used to determine the geodata from Nominatim . The actual algorythm coding is shown in 'markdown' mode becasues it takes time to run."
        },
        {
            "cell_type": "markdown",
            "metadata": {},
            "source": "A list of Manhattan subway metro stops was complied in Numbers (excel) and it was complemented with wikipedia data (https://en.wikipedia.org/wiki/List_of_New_York_City_Subway_stations_in_Manhattan)and information from NY Transit authority and Google maps (https://www.google.com/maps/search/manhattan+subway+metro+stations/@40.7837297,-74.1033043,11z/data=!3m1!4b1)for a final consolidated list of subway stops names and their address. The geolocation was obtained via an algorythm using Nominatim. Details will be shown in the execution of methodolody in section 3.0. \n\nA list of places for rent was collected by web-browsing real estate companies in Manhattan (http://www.rentmanhattan.com/index.cfm?page=search&state=results https://www.nestpick.com/search?city=new-york&page=1&order=relevance&district=manhattan&gclid=CjwKCAiAjNjgBRAgEiwAGLlf2hkP3A-cPxjZYkURqQEswQK2jKQEpv_MvKcrIhRWRzNkc_r-fGi0lxoCA7cQAvD_BwE&type=apartment&display=list https://www.realtor.com/apartments/Manhattan_NY) \n\nA csv file was compiled with the rental place that indicated: areas of Manhattan, address, number of beds, area and monthly rental price. The csv file \"nnnn.csv\" had the following below structure. An algorythm was used to create all the geodata using Nominatim, as shown in section 3.0. The actual algorythm coding may be shown in 'markdown' mode becasues it takes time to run. With the use of geolocator = Nominatim() , it was possible to determine the latitude and longitude for the subway metro locations as well as for the geodata for each rental place listed. The loop algorythms used are shown in the execution of data in section 3.0 \"Great_circle\" function from geolocator was used to calculate distances between two points , as in the case to calculate average rent price for units around each subway station and at 1.6 km radius. Foursquare is used to find the avenues at Manhattan neighborhoods in general and a cluster is created to later be able to search for the venues depending of the location shown."
        },
        {
            "cell_type": "markdown",
            "metadata": {},
            "source": "### 2.4 How the data will be used to solve the problem"
        },
        {
            "cell_type": "markdown",
            "metadata": {},
            "source": "**The data will be used as follows:**\n\n- Use Foursquare and geopy data to map top 10 venues for all Manhattan neighborhoods and clustered in groups ( as per Course LAB)\n\n- Use foursquare and geopy data to map the location of subway metro stations , separately and on top of the above clustered map in order to be able to identify the venues and amenities near each metro station, or explore each subway location separately\n\n- Use Foursquare and geopy data to map the location of rental places, in some form, linked to the subway locations.\n\n- Create a map that depicts, for instance, the average rental price per square ft, around a radious of (1.5 km) around each subway station - or a similar metric. I will be able to quickly point to the popups to know the relative price per subway area.\n\n- Addresses from rental locations will be converted to geodata( lat, long) using Geopy-distance and Nominatim.\n\n- Data will be searched in open data sources if available, from real estate sites if open to reading, libraries or other government agencies such as Metro New York MTA, etc.\n\n**The procesing of these DATA will allow to answer the key questions to make a decision:**\n\n- What is the cost of rent (per square ft) around a mile radius from each subway metro station?\n\n- What is the area of Manhattan with best rental pricing that meets criteria established?\n\n- What is the distance from work place ( Park Ave and 53 rd St) and the tentative future home?\n\n- What are the venues of the two best places to live? How the prices compare?\n\n- How venues distribute among Manhattan neighborhoods and around metro stations?\n\n- Are there tradeoffs between size and price and location?\n\n- Any other interesting statistical data findings of the real estate and overall data."
        },
        {
            "cell_type": "markdown",
            "metadata": {},
            "source": "### 2.5 Mapping of Data"
        },
        {
            "cell_type": "markdown",
            "metadata": {},
            "source": "The following maps were created to facilitate the analysis and the choice of the palace to live. Manhattan map of Neighborhoods manhattan subway metro locations Manhattan map of places for rent Manhattan map of clustered venues and neighborhoods Combined maps of Manhattan rent places with subway locations Combined maps of Manhattan rent places with subway locations and venues clusters."
        },
        {
            "cell_type": "markdown",
            "metadata": {},
            "source": "## 3.0 Methodology Section"
        },
        {
            "cell_type": "markdown",
            "metadata": {},
            "source": "## 3.1 Process steps and strategy to resolve the problem"
        },
        {
            "cell_type": "markdown",
            "metadata": {},
            "source": "This section represents the main component of the report where the data is gathered, prepared for analysis. The tools described are used here and the Notebook cells indicate the execution of steps.\n\n**The analysis and the stragegy:**\n\nThe strategy is based on mapping the above described data in section 2.0, in order to facilitate the choice of at least two candidate places for rent. The choice is made based on the demands imposed : location near a subway, rental price and similar venues to Southbank. This visual approach and maps with pop-up labels allow quick identification of location, price and feature, thus making the selection very easy.\n\nThe procesing of these DATA and its mapping will allow to answer the key questions to make a decision:\n\nWhat is the cost of available rental places that meet the demands?what is the cost of rent around a mile radius from each subway metro station? what is the area of Manhattan with best rental pricing that meets criteria established?What is the distance from work place (Park Ave and 53 rd St) and the tentative future rental home? What are the venues of the two best places to live? How the prices compare?How venues distribute among Manhattan neighborhoods and around metro stations? Are there tradeoffs between size and price and location?Any other interesting statistical data findings of the real estate and overall data."
        },
        {
            "cell_type": "markdown",
            "metadata": {},
            "source": "## 3.2 Data Science Methods, machine learning, mapping tools and exploratory data analysis"
        },
        {
            "cell_type": "markdown",
            "metadata": {},
            "source": "### Southbank,Melbourne Map - Current residence and venues in neighborhood"
        },
        {
            "cell_type": "code",
            "execution_count": null,
            "metadata": {},
            "outputs": [],
            "source": "# Riverside Quay Southbank (Riverside Quay) Southbank VIC 3006 Australia\naddress = 'Riverside Quay, Southbank'\n\ngeolocator = Nominatim()\nlocation = geolocator.geocode(address)\nlatitude = location.latitude\nlongitude = location.longitude\nprint('The geograpical coordinate of Melbourne home are {}, {}.'.format(latitude, longitude))"
        },
        {
            "cell_type": "code",
            "execution_count": null,
            "metadata": {},
            "outputs": [],
            "source": ""
        }
    ],
    "metadata": {
        "kernelspec": {
            "display_name": "Python 3.6",
            "language": "python",
            "name": "python3"
        },
        "language_info": {
            "codemirror_mode": {
                "name": "ipython",
                "version": 3
            },
            "file_extension": ".py",
            "mimetype": "text/x-python",
            "name": "python",
            "nbconvert_exporter": "python",
            "pygments_lexer": "ipython3",
            "version": "3.6.9"
        }
    },
    "nbformat": 4,
    "nbformat_minor": 1
}